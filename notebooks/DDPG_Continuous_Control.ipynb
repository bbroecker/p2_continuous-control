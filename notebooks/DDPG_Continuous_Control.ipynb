{
 "cells": [
  {
   "cell_type": "markdown",
   "metadata": {},
   "source": [
    "# DDPG Continuous Control\n",
    "\n",
    "---\n",
    "\n",
    "In this notebook, you will learn how to use the Unity ML-Agents environment for the second project of the [Deep Reinforcement Learning Nanodegree](https://www.udacity.com/course/deep-reinforcement-learning-nanodegree--nd893) program.\n",
    "\n",
    "### 1. Start the Environment\n",
    "\n",
    "We begin by importing the necessary packages.  If the code cell below returns an error, please revisit the project instructions to double-check that you have installed [Unity ML-Agents](https://github.com/Unity-Technologies/ml-agents/blob/master/docs/Installation.md) and [NumPy](http://www.numpy.org/)."
   ]
  },
  {
   "cell_type": "code",
   "execution_count": null,
   "metadata": {},
   "outputs": [],
   "source": [
    "from unityagents import UnityEnvironment\n",
    "import numpy as np\n",
    "import os\n",
    "import sys\n",
    "module_path = os.path.abspath(os.path.join('..'))\n",
    "if module_path not in sys.path:\n",
    "    sys.path.append(module_path)\n",
    "from ddpg_agent import DDPGAgent\n",
    "from train_ddpg import DDPGConfig, load_weights, train_agent, evaluate_current_weights"
   ]
  },
  {
   "cell_type": "code",
   "execution_count": null,
   "metadata": {},
   "outputs": [],
   "source": [
    "env = UnityEnvironment(file_name='../environments/Reacher_20/Reacher.x86_64')"
   ]
  },
  {
   "cell_type": "markdown",
   "metadata": {},
   "source": [
    "### 2. Init Agent\n",
    "Initialize a DDPG agent."
   ]
  },
  {
   "cell_type": "code",
   "execution_count": null,
   "metadata": {},
   "outputs": [],
   "source": [
    "brain_name = env.brain_names[0]\n",
    "brain = env.brains[brain_name]\n",
    "\n",
    "env_info = env.reset(train_mode=True)[brain_name]\n",
    "\n",
    "# number of agents\n",
    "num_agents = len(env_info.agents)\n",
    "print('Number of agents:', num_agents)\n",
    "\n",
    "# size of each action\n",
    "action_size = brain.vector_action_space_size\n",
    "print('Size of each action:', action_size)\n",
    "\n",
    "# examine the state space\n",
    "states = env_info.vector_observations\n",
    "state_size = states.shape[1]\n",
    "print('There are {} agents. Each observes a state with length: {}'.format(states.shape[0], state_size))\n",
    "print('The state for the first agent looks like:', states[0])\n",
    "\n",
    "#use DDPGConfig with best performing default parameters\n",
    "ddpg_config = DDPGConfig()\n",
    "ddpg_config.critic_lr = 1e-4\n",
    "ddpg_config.actor_lr = 1e-3\n",
    "ddpg_config.batch_size = 128\n",
    "\n",
    "agent = DDPGAgent(state_size, action_size, ddpg_config=ddpg_config, num_agents=num_agents)"
   ]
  },
  {
   "cell_type": "markdown",
   "metadata": {},
   "source": [
    "### 3. Train your agent\n",
    "This following section will train a new agent, the weights are only saved when the agent reaches an average of 30+ points. If you want to test the pre-trained weights skip to Section 5."
   ]
  },
  {
   "cell_type": "code",
   "execution_count": null,
   "metadata": {},
   "outputs": [],
   "source": [
    "critic_weight_dir = '../ddpg_weights/critic_new.pth'\n",
    "actor_weight_dir = '../ddpg_weights/actor_new.pth'\n",
    "train_agent(env, agent, brain_name, num_agents, actor_weight_dir=actor_weight_dir, critic_weight_dir=critic_weight_dir,\n",
    "            n_episodes=200, evaluation_freq=10)"
   ]
  },
  {
   "cell_type": "markdown",
   "metadata": {},
   "source": [
    "### 4. Test your agent\n",
    "Here you can test your weights. Hint: The weights are only saved when the agent reaches an average of 30+ points. If you want to test the pre-trained weights skip to Section 5."
   ]
  },
  {
   "cell_type": "code",
   "execution_count": null,
   "metadata": {},
   "outputs": [],
   "source": [
    "load_weights(agent, critic_weight_dir, actor_weight_dir)\n",
    "evaluate_current_weights(env, agent, brain_name, num_agents, n_episodes=5, train_mode=False)"
   ]
  },
  {
   "cell_type": "markdown",
   "metadata": {},
   "source": [
    "### 5. Test pre-trained agent\n",
    "The following lines load and test a pre-trained agent."
   ]
  },
  {
   "cell_type": "code",
   "execution_count": null,
   "metadata": {},
   "outputs": [],
   "source": [
    "ddpg_config = DDPGConfig()\n",
    "ddpg_config.critic_lr = 1e-4\n",
    "ddpg_config.actor_lr = 1e-3\n",
    "ddpg_config.batch_size = 128\n",
    "agent = DDPGAgent(state_size, action_size, ddpg_config=ddpg_config, num_agents=num_agents)\n",
    "\n",
    "load_weights(agent, \"../ddpg_weights/critic_best.pth\", \"../ddpg_weights/actor_best.pth\")\n",
    "evaluate_current_weights(env, agent, brain_name, num_agents, n_episodes=5, train_mode=False)"
   ]
  },
  {
   "cell_type": "code",
   "execution_count": null,
   "metadata": {},
   "outputs": [],
   "source": [
    "env.close()"
   ]
  },
  {
   "cell_type": "code",
   "execution_count": null,
   "metadata": {},
   "outputs": [],
   "source": []
  }
 ],
 "metadata": {
  "kernelspec": {
   "display_name": "Python 3",
   "language": "python",
   "name": "python3"
  },
  "language_info": {
   "codemirror_mode": {
    "name": "ipython",
    "version": 3
   },
   "file_extension": ".py",
   "mimetype": "text/x-python",
   "name": "python",
   "nbconvert_exporter": "python",
   "pygments_lexer": "ipython3",
   "version": "3.6.9"
  }
 },
 "nbformat": 4,
 "nbformat_minor": 2
}
